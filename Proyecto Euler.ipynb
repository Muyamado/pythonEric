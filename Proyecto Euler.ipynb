{
 "cells": [
  {
   "cell_type": "code",
   "execution_count": 3,
   "metadata": {},
   "outputs": [
    {
     "name": "stdout",
     "output_type": "stream",
     "text": [
      "4613732\n"
     ]
    }
   ],
   "source": [
    "#euler 2\n",
    "suma = 0\n",
    "f1, f2 = 0, 1\n",
    "while f2 < 4000000:\n",
    "    if f2 % 2 == 0:\n",
    "        suma += f2\n",
    "    f1, f2 = f2, f1 + f2\n",
    "print(suma)"
   ]
  },
  {
   "cell_type": "code",
   "execution_count": 4,
   "metadata": {},
   "outputs": [
    {
     "name": "stdout",
     "output_type": "stream",
     "text": [
      "6857\n"
     ]
    }
   ],
   "source": [
    "#euler 3\n",
    "import math\n",
    "for i in range(int(math.sqrt(600851475143)),1,-1):\n",
    "    if 600851475143 % i ==0:\n",
    "        bandera = False\n",
    "        for y in range(int(math.sqrt(i)),1,-1):\n",
    "            if(i % y ==0):\n",
    "               bandera = True\n",
    "        if(bandera!=True):\n",
    "            print(i)\n",
    "            break"
   ]
  },
  {
   "cell_type": "code",
   "execution_count": 12,
   "metadata": {},
   "outputs": [
    {
     "name": "stdout",
     "output_type": "stream",
     "text": [
      "906609\n"
     ]
    }
   ],
   "source": [
    "#euler 4\n",
    "def encontrar_palindromo():\n",
    "    palindromos = (i * j\n",
    "                       for i in reversed(range(100, 1000))\n",
    "                       for j in reversed(range(100, 1000))\n",
    "                       if str(i * j) == str(i * j)[::-1]\n",
    "                       )\n",
    "\n",
    "    return max(palindromos)\n",
    "\n",
    "resultado = encontrar_palindromo()\n",
    "print(resultado)"
   ]
  },
  {
   "cell_type": "code",
   "execution_count": 7,
   "metadata": {},
   "outputs": [
    {
     "name": "stdout",
     "output_type": "stream",
     "text": [
      "232792560\n"
     ]
    }
   ],
   "source": [
    "#euler 5\n",
    "\n",
    "def minimo(n):\n",
    "    for i in range(11,21):\n",
    "        if n % i == 0:\n",
    "            continue\n",
    "        else:\n",
    "            return False\n",
    "    return True\n",
    "\n",
    "x = 2520\n",
    "\n",
    "while not minimo(x):\n",
    "    x += 2520\n",
    "    \n",
    "print(x)"
   ]
  },
  {
   "cell_type": "code",
   "execution_count": 9,
   "metadata": {},
   "outputs": [
    {
     "name": "stdout",
     "output_type": "stream",
     "text": [
      "25164150\n"
     ]
    }
   ],
   "source": [
    "#euler 6\n",
    "\n",
    "def sumaDeCuadrados(maximo):\n",
    "    total = 0\n",
    "    for i in range(maximo+1):\n",
    "        total += i**2\n",
    "    return total\n",
    "\n",
    "def elCuadradoDeSuma(maximo):\n",
    "    total = 0\n",
    "    for i in range(maximo+1):\n",
    "        total += i\n",
    "    return total**2\n",
    "\n",
    "s1 = sumaDeCuadrados(100)\n",
    "s2 = elCuadradoDeSuma(100)\n",
    "\n",
    "print(s2-s1)"
   ]
  },
  {
   "cell_type": "code",
   "execution_count": null,
   "metadata": {},
   "outputs": [],
   "source": [
    "n_primo = 10001\n",
    "n = 2\n",
    "contador = 0\n",
    "def esPrimo(num):\n",
    "    for i in range(i,num+1):\n",
    "        if numero % i == 0:\n",
    "            return True\n",
    "        else:\n",
    "            return False\n",
    "        \n",
    "def numPrimo(num):\n",
    "    if esPrimo(num) == True:\n",
    "        return num\n",
    "        \n",
    "while n <= n_primo:\n",
    "    if numPrimo(n)\n",
    "        contador+=1"
   ]
  }
 ],
 "metadata": {
  "kernelspec": {
   "display_name": "Python 3",
   "language": "python",
   "name": "python3"
  },
  "language_info": {
   "codemirror_mode": {
    "name": "ipython",
    "version": 3
   },
   "file_extension": ".py",
   "mimetype": "text/x-python",
   "name": "python",
   "nbconvert_exporter": "python",
   "pygments_lexer": "ipython3",
   "version": "3.7.6"
  }
 },
 "nbformat": 4,
 "nbformat_minor": 4
}
